{
 "cells": [
  {
   "cell_type": "markdown",
   "id": "a21b5298",
   "metadata": {},
   "source": [
    "# description"
   ]
  },
  {
   "cell_type": "markdown",
   "id": "b4eaea67",
   "metadata": {},
   "source": [
    "**purpose**: search multiple dates and itineraries from skiplagged "
   ]
  },
  {
   "cell_type": "markdown",
   "id": "8f210a45",
   "metadata": {},
   "source": [
    "# setup"
   ]
  },
  {
   "cell_type": "code",
   "execution_count": null,
   "id": "58cb3e4e",
   "metadata": {
    "ExecuteTime": {
     "end_time": "2022-06-17T18:24:52.296053Z",
     "start_time": "2022-06-17T18:24:52.292861Z"
    }
   },
   "outputs": [],
   "source": [
    "# dependencies\n",
    "\n",
    "# rare\n",
    "import geopy.distance\n",
    "import airportsdata\n",
    "import requests\n",
    "import concurrent\n",
    "import json\n",
    "import pandas as pd\n",
    "import numpy as np\n",
    "\n",
    "# common\n",
    "import os\n",
    "from time import sleep\n",
    "import datetime\n",
    "from datetime import date, timedelta\n"
   ]
  },
  {
   "cell_type": "markdown",
   "id": "9e244973",
   "metadata": {},
   "source": [
    "# functions"
   ]
  },
  {
   "cell_type": "code",
   "execution_count": null,
   "id": "d1cdde4b",
   "metadata": {
    "ExecuteTime": {
     "end_time": "2022-06-17T18:23:10.097795Z",
     "start_time": "2022-06-17T18:23:10.093439Z"
    }
   },
   "outputs": [],
   "source": [
    "def skiplagged_api_get(url, seconds=15, wait_seconds=5):\n",
    "    i = 0\n",
    "    call_times = seconds/wait_seconds\n",
    "    while i < call_times:\n",
    "        response = requests.get(url)\n",
    "        response_dict = response.json()\n",
    "        sleep(wait_seconds)\n",
    "        i+=1\n",
    "    return response_dict"
   ]
  },
  {
   "cell_type": "code",
   "execution_count": null,
   "id": "90ce17e2",
   "metadata": {
    "ExecuteTime": {
     "end_time": "2022-06-17T18:23:10.512100Z",
     "start_time": "2022-06-17T18:23:10.506853Z"
    }
   },
   "outputs": [],
   "source": [
    "def process_response(response_dict, n=5):\n",
    "    details = []\n",
    "    flights = []\n",
    "    cheapest_n_flights = response_dict['itineraries']['outbound'][:n]\n",
    "    for flight in cheapest_n_flights:\n",
    "        flight_id = flight['flight']\n",
    "        details = response_dict['flights'][flight_id]\n",
    "        departure = response_dict['flights'][flight_id]['segments'][0]['departure']['time']\n",
    "        arrival = response_dict['flights'][flight_id]['segments'][-1]['arrival']['time']\n",
    "        hours = response_dict['flights'][flight_id]['duration']/60/60\n",
    "        usd_price = flight['one_way_price']/100\n",
    "        flight_dict = {'flight_id': flight_id, \n",
    "                       'cost': usd_price, \n",
    "                       'duration': hours, \n",
    "                       'departure': departure, \n",
    "                       'arrival': arrival}\n",
    "        details = {flight_id: details}\n",
    "        flights.append(flight_dict)\n",
    "    return flights, details"
   ]
  },
  {
   "cell_type": "code",
   "execution_count": null,
   "id": "bc228846",
   "metadata": {
    "ExecuteTime": {
     "end_time": "2022-06-17T18:23:10.690074Z",
     "start_time": "2022-06-17T18:23:10.686589Z"
    }
   },
   "outputs": [],
   "source": [
    "def get_airports_by_country(country):\n",
    "    airports = airportsdata.load('IATA')  # key is IATA code\n",
    "    airports_by_country = [a for a in airports if airports[a]['country'] == country]\n",
    "    return airports_by_country"
   ]
  },
  {
   "cell_type": "code",
   "execution_count": null,
   "id": "03dd2a11",
   "metadata": {
    "ExecuteTime": {
     "end_time": "2022-06-17T18:23:10.866355Z",
     "start_time": "2022-06-17T18:23:10.862516Z"
    }
   },
   "outputs": [],
   "source": [
    "def get_closest_airports(airport_code, distance_km):\n",
    "    airports = airportsdata.load('IATA')  # key is IATA code\n",
    "    src = (airports[airport_code]['lat'], airports[airport_code]['lon'])\n",
    "    relevant_airports = []\n",
    "    for a in airports:\n",
    "        dst = (airports[a]['lat'], airports[a]['lon'])\n",
    "        dist = geopy.distance.distance(src, dst).km\n",
    "        if dist <= distance_km:\n",
    "            relevant_airports.append(a)\n",
    "\n",
    "    return relevant_airports"
   ]
  },
  {
   "cell_type": "code",
   "execution_count": null,
   "id": "3c442f17",
   "metadata": {
    "ExecuteTime": {
     "end_time": "2022-06-17T18:23:11.035236Z",
     "start_time": "2022-06-17T18:23:11.030946Z"
    }
   },
   "outputs": [],
   "source": [
    "def generate_urls(src_airports, dst_airports, dpt_dates):\n",
    "    urls = []\n",
    "    N = len(src_airports)*len(dst_airports)*len(dpt_dates)\n",
    "    i = 1\n",
    "    dt = datetime.datetime.now().strftime('%Y%m%d%H%M%S')\n",
    "    for src in src_airports:\n",
    "        for dst in dst_airports:\n",
    "            for dpt in dpt_dates:\n",
    "                url = generate_url(src, dst, dpt)\n",
    "                urls.append(url)\n",
    "    return urls"
   ]
  },
  {
   "cell_type": "code",
   "execution_count": null,
   "id": "2c41f9d7",
   "metadata": {
    "ExecuteTime": {
     "end_time": "2022-06-17T18:23:11.222361Z",
     "start_time": "2022-06-17T18:23:11.219035Z"
    }
   },
   "outputs": [],
   "source": [
    "def generate_url(src, dst, dpt):\n",
    "    rtn = ''\n",
    "    fmt = 'v3'\n",
    "    alt = '1'\n",
    "    cld = '0'\n",
    "    url = f\"https://skiplagged.com/api/search.php?from={src}&to={dst}&depart={dpt}&return={rtn}&format={fmt}&counts[adults]={alt}&counts[children]={cld}\"\n",
    "    return url"
   ]
  },
  {
   "cell_type": "code",
   "execution_count": null,
   "id": "0b88e9da",
   "metadata": {
    "ExecuteTime": {
     "end_time": "2022-06-17T18:23:11.507295Z",
     "start_time": "2022-06-17T18:23:11.503755Z"
    }
   },
   "outputs": [],
   "source": [
    "def make_parallel_requests(request_strings):\n",
    "    \"\"\"\n",
    "    Makes parallel requests to the skiplagged API.\n",
    "    \"\"\"\n",
    "    with concurrent.futures.ThreadPoolExecutor(max_workers=10) as executor:\n",
    "        responses = executor.map(skiplagged_api_get, request_strings)\n",
    "    return responses"
   ]
  },
  {
   "cell_type": "code",
   "execution_count": null,
   "id": "7fbecc4c",
   "metadata": {
    "ExecuteTime": {
     "end_time": "2022-06-17T18:23:11.686644Z",
     "start_time": "2022-06-17T18:23:11.680117Z"
    }
   },
   "outputs": [],
   "source": [
    "# sequential calls: old version\n",
    "def get_all_combinations(src_airports, dst_airports, dpt_dates, save_path):\n",
    "    results = []\n",
    "    N = len(src_airports)*len(dst_airports)*len(dpt_dates)\n",
    "    i = 1\n",
    "    dt = datetime.datetime.now().strftime('%Y%m%d%H%M%S')\n",
    "    for src in src_airports:\n",
    "        for dst in dst_airports:\n",
    "            for dpt in dpt_dates:\n",
    "                print(f'processing {i}/{N}: {src}, {dst}, {dpt}')\n",
    "                rtn = ''\n",
    "                fmt = 'v3'\n",
    "                alt = '1'\n",
    "                cld = '0'\n",
    "                url = f\"https://skiplagged.com/api/search.php?from={src}&to={dst}&depart={dpt}&return={rtn}&format={fmt}&counts[adults]={alt}&counts[children]={cld}\"\n",
    "                response_dict = skiplagged_api_get(url, seconds=15, wait_seconds=5)\n",
    "                best_flights, _ = process_response(response_dict, n=5)\n",
    "                \n",
    "                for bf in best_flights:\n",
    "                    result = {}\n",
    "                    result.update({'src': src, 'dst': dst, 'depart_date': dpt})\n",
    "                    result.update(bf)\n",
    "                    results.append(result)\n",
    "                    with open(f\"{save_path}itinerary_{dt}.txt\", \"a\") as f:\n",
    "                        f.write(json.dumps(result))\n",
    "                \n",
    "                i+=1\n",
    "                \n",
    "    return results"
   ]
  },
  {
   "cell_type": "code",
   "execution_count": null,
   "id": "6c38e7e0",
   "metadata": {
    "ExecuteTime": {
     "end_time": "2022-06-17T18:23:11.847910Z",
     "start_time": "2022-06-17T18:23:11.843032Z"
    }
   },
   "outputs": [],
   "source": [
    "def process_response_list(response_list, fout):\n",
    "    results = []\n",
    "    \n",
    "    for response_dict in response_list:\n",
    "        src = response_dict['info']['from']['airports'][0]\n",
    "        dst = response_dict['info']['to']['airports'][0]\n",
    "        dpt = response_dict['flights'][list(response_dict['flights'].keys())[0]]['segments'][0]['departure']['time'][:10]\n",
    "        best_flights, _ = process_response(response_dict, n=5)\n",
    "        for bf in best_flights:\n",
    "            result = {}\n",
    "\n",
    "            result.update({'src': src, 'dst': dst, 'depart_date': dpt})\n",
    "            result.update(bf)\n",
    "            results.append(result)\n",
    "            with open(fout, \"a\") as f:\n",
    "                f.write(json.dumps(result))\n",
    "    return results"
   ]
  },
  {
   "cell_type": "code",
   "execution_count": null,
   "id": "4dd14adc",
   "metadata": {
    "ExecuteTime": {
     "end_time": "2022-06-17T18:23:12.116703Z",
     "start_time": "2022-06-17T18:23:12.112463Z"
    }
   },
   "outputs": [],
   "source": [
    "def run_parallel_process_requests(request_strings, fout):\n",
    "    responses = make_parallel_requests(request_strings)\n",
    "    response_list = [response for response in responses]\n",
    "    results = process_response_list(response_list, fout)\n",
    "    return results"
   ]
  },
  {
   "cell_type": "code",
   "execution_count": null,
   "id": "2bf316b6",
   "metadata": {
    "ExecuteTime": {
     "end_time": "2022-06-17T18:23:12.400165Z",
     "start_time": "2022-06-17T18:23:12.394811Z"
    }
   },
   "outputs": [],
   "source": [
    "def get_all_combinations_partially_parallel(src_airports, dst_airports, dpt_dates, save_path):\n",
    "    urls = generate_urls(src_airports, dst_airports, dpt_dates)\n",
    "    dt = datetime.datetime.now().strftime('%Y%m%d%H%M%S')\n",
    "    fout = f\"{save_path}itinerary_{dt}.txt\"\n",
    "\n",
    "    N = len(urls)\n",
    "    n = int(N/10)\n",
    "    rem = N%10\n",
    "    final_results = []\n",
    "    for i in range(n):\n",
    "        request_strings = urls[i*10:i*10+10]\n",
    "        results = run_parallel_process_requests(request_strings, fout)\n",
    "        final_results+=results\n",
    "\n",
    "    request_strings = urls[i*10+10:i*10+10+rem]\n",
    "    results = run_parallel_process_requests(request_strings, fout)\n",
    "    final_results+=results\n",
    "    \n",
    "    return final_results"
   ]
  },
  {
   "cell_type": "code",
   "execution_count": null,
   "id": "7b6bae78",
   "metadata": {
    "ExecuteTime": {
     "end_time": "2022-06-17T18:23:12.731819Z",
     "start_time": "2022-06-17T18:23:12.727137Z"
    }
   },
   "outputs": [],
   "source": [
    "def generate_dates(start, end):\n",
    "    fmt = '%Y-%m-%d'\n",
    "\n",
    "    start_date = datetime.datetime.strptime(start, fmt)\n",
    "    end_date = datetime.datetime.strptime(end, fmt)\n",
    "\n",
    "    delta = end_date - start_date   # returns timedelta\n",
    "    dpt_dates = [(start_date + timedelta(days=i)).strftime(fmt) for i in range(delta.days + 1)]\n",
    "\n",
    "    return dpt_dates"
   ]
  },
  {
   "cell_type": "code",
   "execution_count": null,
   "id": "bibliographic-saint",
   "metadata": {
    "ExecuteTime": {
     "end_time": "2022-06-17T19:42:12.346840Z",
     "start_time": "2022-06-17T19:42:12.341460Z"
    }
   },
   "outputs": [],
   "source": [
    "def read_output(filename):\n",
    "    with open(filename) as f:\n",
    "        itinerary_string = f.readlines()[0]\n",
    "\n",
    "    list_of_entry_dicts = []\n",
    "    entries_list = itinerary_string.split('}{')\n",
    "    N = len(entries_list)\n",
    "    for n in range(N):\n",
    "        entry = entries_list[n]\n",
    "        if n == 0:\n",
    "            entry = entry + \"}\"\n",
    "        elif n == N-1:\n",
    "            entry = \"{\" + entry\n",
    "        else:\n",
    "            entry = \"{\" + entry + \"}\"\n",
    "\n",
    "        entry_dict = json.loads(entry)\n",
    "        list_of_entry_dicts.append(entry_dict)\n",
    "    sorted_list = sorted(list_of_entry_dicts, key = lambda i: i['cost'])\n",
    "    return sorted_list"
   ]
  },
  {
   "cell_type": "code",
   "execution_count": null,
   "id": "dental-junction",
   "metadata": {
    "ExecuteTime": {
     "end_time": "2022-06-17T19:43:30.419497Z",
     "start_time": "2022-06-17T19:43:30.413396Z"
    }
   },
   "outputs": [],
   "source": [
    "def create_flight_calendar(results):\n",
    "    df = pd.DataFrame(results)\n",
    "    df['adjusted_src_cost'] = np.where(df['src']=='OTP', df['cost']+20,\n",
    "                       np.where(df['src']=='IST', df['cost']+35,\n",
    "                       np.where(df['src']=='SOF', df['cost']+5 , df['cost']+35)))\n",
    "\n",
    "    df['adjusted_cost'] = np.where(df['dst']=='OAK', df['adjusted_src_cost']+10,\n",
    "                       np.where(df['dst']=='SFO', df['adjusted_src_cost']+10,\n",
    "                       np.where(df['dst']=='SJC', df['adjusted_src_cost']+30 , df['adjusted_src_cost']+30)))\n",
    "\n",
    "    final = df.loc[df.groupby('depart_date').adjusted_cost.idxmin()]\n",
    "    return final"
   ]
  },
  {
   "cell_type": "markdown",
   "id": "5f48a366",
   "metadata": {},
   "source": [
    "# manual"
   ]
  },
  {
   "cell_type": "code",
   "execution_count": null,
   "id": "28a1aef4",
   "metadata": {
    "ExecuteTime": {
     "end_time": "2022-06-17T18:23:17.130759Z",
     "start_time": "2022-06-17T18:23:15.267049Z"
    }
   },
   "outputs": [],
   "source": [
    "# list of closest source airports\n",
    "airports = airportsdata.load('IATA')  # key is IATA code\n",
    "\n",
    "airport_code = 'SFO'\n",
    "distance_km = 100\n",
    "relevant_airports = get_closest_airports(airport_code, distance_km)\n",
    "relevant_airports"
   ]
  },
  {
   "cell_type": "code",
   "execution_count": null,
   "id": "8cb55858",
   "metadata": {
    "ExecuteTime": {
     "end_time": "2022-06-17T18:23:17.140646Z",
     "start_time": "2022-06-17T18:23:17.133983Z"
    }
   },
   "outputs": [],
   "source": [
    "# distance between 2 airports\n",
    "a = 'MUC'\n",
    "src = (airports[a]['lat'], airports[a]['lon'])\n",
    "a = 'SOF'\n",
    "dst = (airports[a]['lat'], airports[a]['lon'])\n",
    "dist = geopy.distance.distance(src, dst).km\n",
    "dist\n"
   ]
  },
  {
   "cell_type": "code",
   "execution_count": null,
   "id": "0aa22e90",
   "metadata": {
    "ExecuteTime": {
     "end_time": "2022-06-17T18:23:19.148991Z",
     "start_time": "2022-06-17T18:23:17.143164Z"
    }
   },
   "outputs": [],
   "source": [
    "# list of closest destination airports\n",
    "\n",
    "dst = 'MUC'\n",
    "distance_km = 1200.0\n",
    "dst_airports = get_closest_airports(dst, distance_km)\n",
    "len(dst_airports), 'SOF' in dst_airports"
   ]
  },
  {
   "cell_type": "markdown",
   "id": "60ed610e",
   "metadata": {},
   "source": [
    "# execute"
   ]
  },
  {
   "cell_type": "code",
   "execution_count": null,
   "id": "185c7347",
   "metadata": {
    "ExecuteTime": {
     "end_time": "2022-06-17T18:25:03.528077Z",
     "start_time": "2022-06-17T18:25:03.522826Z"
    }
   },
   "outputs": [],
   "source": [
    "# save location\n",
    "\n",
    "SAVE_PATH = 'output/itineraries/'\n",
    "\n",
    "\n",
    "if not os.path.exists(SAVE_PATH):\n",
    "    os.makedirs(SAVE_PATH, exist_ok=True)"
   ]
  },
  {
   "cell_type": "markdown",
   "id": "aa2c0349",
   "metadata": {},
   "source": [
    "## one-way"
   ]
  },
  {
   "cell_type": "code",
   "execution_count": null,
   "id": "2464c2a7",
   "metadata": {
    "ExecuteTime": {
     "end_time": "2022-06-17T18:38:38.613594Z",
     "start_time": "2022-06-17T18:38:38.609582Z"
    }
   },
   "outputs": [],
   "source": [
    "# search space: final list of source, destination airports and departure times\n",
    "\n",
    "src_airports = ['OAK', 'SFO', 'SJC']\n",
    "dst_airports = ['SOF', 'IST', 'OTP']\n",
    "start = '2022-06-02'\n",
    "end = '2022-06-14'\n",
    "\n",
    "src_airports = ['SOF', 'IST', 'OTP']\n",
    "dst_airports = ['OAK', 'SFO', 'SJC']\n",
    "start = '2022-09-01'\n",
    "end = '2022-09-30'\n",
    "\n",
    "dpt_dates = generate_dates(start, end)"
   ]
  },
  {
   "cell_type": "code",
   "execution_count": null,
   "id": "efd212e5",
   "metadata": {
    "ExecuteTime": {
     "end_time": "2022-06-17T18:47:55.833242Z",
     "start_time": "2022-06-17T18:38:49.670780Z"
    },
    "scrolled": true
   },
   "outputs": [],
   "source": [
    "# run in partially parallel way (10x reduction in time)\n",
    "final_results = get_all_combinations_partially_parallel(src_airports, dst_airports, dpt_dates, SAVE_PATH)\n",
    "sorted_results = sorted(final_results, key = lambda i: i['cost'])\n",
    "# 117 combos take 5m 2s\n",
    "for s in sorted_results:\n",
    "    print(f\"{s['src']} - {s['dst']}, {s['depart_date']}, {s['cost']}, {s['duration']}\")\n"
   ]
  },
  {
   "cell_type": "code",
   "execution_count": null,
   "id": "quiet-exclusion",
   "metadata": {
    "ExecuteTime": {
     "end_time": "2022-06-17T19:44:29.978426Z",
     "start_time": "2022-06-17T19:44:29.940791Z"
    }
   },
   "outputs": [],
   "source": [
    "calendar = create_flight_calendar(sorted_results)\n",
    "calendar"
   ]
  },
  {
   "cell_type": "code",
   "execution_count": null,
   "id": "3d8e71ed",
   "metadata": {
    "ExecuteTime": {
     "end_time": "2022-05-28T18:00:04.418959Z",
     "start_time": "2022-05-28T18:00:04.413725Z"
    },
    "scrolled": true
   },
   "outputs": [],
   "source": [
    "# old way: run sequentially\n",
    "'''\n",
    "results = get_all_combinations(src_airports, dst_airports, dpt_dates, save_path=SAVE_PATH)\n",
    "sorted_results = sorted(results, key = lambda i: i['cost'])\n",
    "# 435 combos take 2h 11m 47 s\n",
    "'''"
   ]
  },
  {
   "cell_type": "markdown",
   "id": "6df98630",
   "metadata": {},
   "source": [
    "## read results"
   ]
  },
  {
   "cell_type": "code",
   "execution_count": null,
   "id": "lesser-blood",
   "metadata": {
    "ExecuteTime": {
     "end_time": "2022-06-17T19:42:17.105759Z",
     "start_time": "2022-06-17T19:42:17.098840Z"
    }
   },
   "outputs": [],
   "source": [
    "os.listdir('output/itineraries')"
   ]
  },
  {
   "cell_type": "code",
   "execution_count": null,
   "id": "e8aeb046",
   "metadata": {
    "ExecuteTime": {
     "end_time": "2022-06-17T19:47:04.076881Z",
     "start_time": "2022-06-17T19:47:04.052951Z"
    }
   },
   "outputs": [],
   "source": [
    "filename = 'output/itineraries/itinerary_20220617212601.txt'\n",
    "sorted_list = read_output(filename)\n",
    "for s in sorted_list:\n",
    "    print(f\"{s['src']} - {s['dst']}, {s['depart_date']}, {s['cost']}, {s['duration']}\")\n",
    "\n"
   ]
  },
  {
   "cell_type": "code",
   "execution_count": null,
   "id": "operating-liberty",
   "metadata": {
    "ExecuteTime": {
     "end_time": "2022-06-17T19:47:05.565957Z",
     "start_time": "2022-06-17T19:47:05.531230Z"
    },
    "scrolled": true
   },
   "outputs": [],
   "source": [
    "calendar = create_flight_calendar(sorted_list)\n",
    "calendar"
   ]
  },
  {
   "cell_type": "markdown",
   "id": "da067eca",
   "metadata": {},
   "source": [
    "## two-way"
   ]
  },
  {
   "cell_type": "code",
   "execution_count": null,
   "id": "83e6b0da",
   "metadata": {
    "ExecuteTime": {
     "end_time": "2022-05-28T17:13:13.907585Z",
     "start_time": "2022-05-28T17:13:13.900268Z"
    }
   },
   "outputs": [],
   "source": [
    "# seach space: list of source, destination airports, departure and return times\n",
    "\n",
    "src_airports = ['OAK', 'SFO', 'SJC']\n",
    "dst_airports = ['SOF', 'IST', 'OTP']\n",
    "start = '2022-06-02'\n",
    "end = '2022-06-14'\n",
    "ret_start = '2022-07-15'\n",
    "ret_end = '2022-08-01'\n",
    "\n",
    "dpt_dates = generate_dates(start, end)\n",
    "ret_dates = generate_dates(ret_start, ret_end)\n"
   ]
  },
  {
   "cell_type": "code",
   "execution_count": null,
   "id": "3748e30b",
   "metadata": {},
   "outputs": [],
   "source": [
    "# TODO: implement skiplagged two-way search"
   ]
  },
  {
   "cell_type": "code",
   "execution_count": null,
   "id": "3384e851",
   "metadata": {},
   "outputs": [],
   "source": []
  }
 ],
 "metadata": {
  "interpreter": {
   "hash": "c545b0173aa0f1462561eaa4076776134c08a6b85974caaac3e294706a9c8abe"
  },
  "kernelspec": {
   "display_name": "pywings",
   "language": "python",
   "name": "pywings"
  },
  "language_info": {
   "codemirror_mode": {
    "name": "ipython",
    "version": 3
   },
   "file_extension": ".py",
   "mimetype": "text/x-python",
   "name": "python",
   "nbconvert_exporter": "python",
   "pygments_lexer": "ipython3",
   "version": "3.9.2"
  },
  "toc": {
   "base_numbering": 1,
   "nav_menu": {},
   "number_sections": true,
   "sideBar": true,
   "skip_h1_title": false,
   "title_cell": "Table of Contents",
   "title_sidebar": "Contents",
   "toc_cell": false,
   "toc_position": {},
   "toc_section_display": true,
   "toc_window_display": false
  }
 },
 "nbformat": 4,
 "nbformat_minor": 5
}
