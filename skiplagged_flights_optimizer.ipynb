{
 "cells": [
  {
   "cell_type": "markdown",
   "id": "a21b5298",
   "metadata": {},
   "source": [
    "# description"
   ]
  },
  {
   "cell_type": "markdown",
   "id": "b4eaea67",
   "metadata": {},
   "source": [
    "**purpose**: search multiple dates and itineraries from skiplagged "
   ]
  },
  {
   "cell_type": "markdown",
   "id": "8f210a45",
   "metadata": {},
   "source": [
    "# setup"
   ]
  },
  {
   "cell_type": "code",
   "execution_count": null,
   "id": "58cb3e4e",
   "metadata": {
    "ExecuteTime": {
     "end_time": "2022-03-26T19:27:09.079999Z",
     "start_time": "2022-03-26T19:27:09.079958Z"
    }
   },
   "outputs": [],
   "source": [
    "import requests\n",
    "from time import sleep\n",
    "import datetime\n",
    "from datetime import date, timedelta\n",
    "import geopy.distance\n",
    "import airportsdata\n",
    "import json\n",
    "\n"
   ]
  },
  {
   "cell_type": "markdown",
   "id": "8ff8432a",
   "metadata": {},
   "source": [
    "# manual"
   ]
  },
  {
   "cell_type": "code",
   "execution_count": null,
   "id": "28a1aef4",
   "metadata": {
    "ExecuteTime": {
     "end_time": "2022-03-26T18:34:49.756050Z",
     "start_time": "2022-03-26T18:34:47.589101Z"
    }
   },
   "outputs": [],
   "source": [
    "# list of closest source airports\n",
    "airports = airportsdata.load('IATA')  # key is IATA code\n",
    "\n",
    "airport_code = 'SFO'\n",
    "distance_km = 100\n",
    "relevant_airports = get_closest_airports(airport_code, distance_km)\n",
    "relevant_airports"
   ]
  },
  {
   "cell_type": "code",
   "execution_count": null,
   "id": "8cb55858",
   "metadata": {
    "ExecuteTime": {
     "end_time": "2022-03-26T18:40:52.240457Z",
     "start_time": "2022-03-26T18:40:52.232764Z"
    }
   },
   "outputs": [],
   "source": [
    "# distance between 2 airports\n",
    "a = 'MUC'\n",
    "src = (airports[a]['lat'], airports[a]['lon'])\n",
    "a = 'SOF'\n",
    "dst = (airports[a]['lat'], airports[a]['lon'])\n",
    "dist = geopy.distance.distance(src, dst).km\n",
    "dist\n"
   ]
  },
  {
   "cell_type": "code",
   "execution_count": null,
   "id": "0aa22e90",
   "metadata": {
    "ExecuteTime": {
     "end_time": "2022-03-26T18:40:10.443321Z",
     "start_time": "2022-03-26T18:40:08.396576Z"
    }
   },
   "outputs": [],
   "source": [
    "# list of closest destination airports\n",
    "\n",
    "dst = 'MUC'\n",
    "distance_km = 1200.0\n",
    "dst_airports = get_closest_airports(dst, distance_km)\n",
    "len(dst_airports), 'SOF' in dst_airports"
   ]
  },
  {
   "cell_type": "markdown",
   "id": "bf740a81",
   "metadata": {},
   "source": [
    "# functions"
   ]
  },
  {
   "cell_type": "code",
   "execution_count": null,
   "id": "f0efc0d3",
   "metadata": {
    "ExecuteTime": {
     "end_time": "2022-03-26T18:07:51.760341Z",
     "start_time": "2022-03-26T18:07:51.755326Z"
    }
   },
   "outputs": [],
   "source": [
    "def skiplagged_api_get(url, seconds=15, wait_seconds=5):\n",
    "    i = 0\n",
    "    call_times = seconds/wait_seconds\n",
    "    while i < call_times:\n",
    "        response = requests.get(url)\n",
    "        response_dict = response.json()\n",
    "        sleep(wait_seconds)\n",
    "        i+=1\n",
    "    return response_dict"
   ]
  },
  {
   "cell_type": "code",
   "execution_count": null,
   "id": "58de716e",
   "metadata": {
    "ExecuteTime": {
     "end_time": "2022-03-26T18:44:28.389887Z",
     "start_time": "2022-03-26T18:44:28.380810Z"
    }
   },
   "outputs": [],
   "source": [
    "def process_response(response_dict, n=5):\n",
    "    details = []\n",
    "    flights = []\n",
    "    cheapest_n_flights = response_dict['itineraries']['outbound'][:n]\n",
    "    for flight in cheapest_n_flights:\n",
    "        flight_id = flight['flight']\n",
    "        details = response_dict['flights'][flight_id]\n",
    "        departure = response_dict['flights'][flight_id]['segments'][0]['departure']['time']\n",
    "        arrival = response_dict['flights'][flight_id]['segments'][-1]['arrival']['time']\n",
    "        hours = response_dict['flights'][flight_id]['duration']/60/60\n",
    "        usd_price = flight['one_way_price']/100\n",
    "        flight_dict = {'flight_id': flight_id, \n",
    "                       'cost': usd_price, \n",
    "                       'duration': hours, \n",
    "                       'departure': departure, \n",
    "                       'arrival': arrival}\n",
    "        details = {flight_id: details}\n",
    "        flights.append(flight_dict)\n",
    "    return flights, details"
   ]
  },
  {
   "cell_type": "code",
   "execution_count": null,
   "id": "89024731",
   "metadata": {
    "ExecuteTime": {
     "end_time": "2022-03-26T18:44:28.582127Z",
     "start_time": "2022-03-26T18:44:28.577426Z"
    }
   },
   "outputs": [],
   "source": [
    "def get_airports_by_country(country):\n",
    "    airports = airportsdata.load('IATA')  # key is IATA code\n",
    "    airports_by_country = [a for a in airports if airports[a]['country'] == country]\n",
    "    return airports_by_country"
   ]
  },
  {
   "cell_type": "code",
   "execution_count": null,
   "id": "f18feef3",
   "metadata": {
    "ExecuteTime": {
     "end_time": "2022-03-26T18:44:28.830704Z",
     "start_time": "2022-03-26T18:44:28.824636Z"
    }
   },
   "outputs": [],
   "source": [
    "def get_closest_airports(airport_code, distance_km):\n",
    "    airports = airportsdata.load('IATA')  # key is IATA code\n",
    "    src = (airports[airport_code]['lat'], airports[airport_code]['lon'])\n",
    "    relevant_airports = []\n",
    "    for a in airports:\n",
    "        dst = (airports[a]['lat'], airports[a]['lon'])\n",
    "        dist = geopy.distance.distance(src, dst).km\n",
    "        if dist <= distance_km:\n",
    "            relevant_airports.append(a)\n",
    "\n",
    "    return relevant_airports"
   ]
  },
  {
   "cell_type": "markdown",
   "id": "60ed610e",
   "metadata": {},
   "source": [
    "# execute"
   ]
  },
  {
   "cell_type": "code",
   "execution_count": null,
   "id": "185c7347",
   "metadata": {
    "ExecuteTime": {
     "end_time": "2022-03-26T19:22:00.384220Z",
     "start_time": "2022-03-26T19:22:00.381327Z"
    }
   },
   "outputs": [],
   "source": [
    "# save location\n",
    "\n",
    "SAVE_PATH = '/home/alex/Downloads/itineraries/'\n"
   ]
  },
  {
   "cell_type": "code",
   "execution_count": null,
   "id": "2464c2a7",
   "metadata": {
    "ExecuteTime": {
     "end_time": "2022-03-26T19:33:00.926701Z",
     "start_time": "2022-03-26T19:33:00.923657Z"
    }
   },
   "outputs": [],
   "source": [
    "# SPACE: final list of source and destination airports\n",
    "\n",
    "src_airports = ['OAK', 'SFO', 'SJC']\n",
    "dst_airports = ['SOF', 'BEG', 'SKP', 'IST', 'OTP']"
   ]
  },
  {
   "cell_type": "code",
   "execution_count": null,
   "id": "e58222e8",
   "metadata": {
    "ExecuteTime": {
     "end_time": "2022-03-26T19:33:07.746457Z",
     "start_time": "2022-03-26T19:33:07.739802Z"
    }
   },
   "outputs": [],
   "source": [
    "# TIME: list of dates\n",
    "\n",
    "start = '2022-05-26'\n",
    "end = '2022-06-23'\n",
    "#end = '2022-05-26'\n",
    "\n",
    "fmt = '%Y-%m-%d'\n",
    "\n",
    "start_date = datetime.datetime.strptime(start, fmt)\n",
    "end_date = datetime.datetime.strptime(end, fmt)\n",
    "\n",
    "delta = end_date - start_date   # returns timedelta\n",
    "\n",
    "dpt_dates = [(start_date + timedelta(days=i)).strftime(fmt) for i in range(delta.days + 1)]\n",
    "    \n",
    "len(dpt_dates)"
   ]
  },
  {
   "cell_type": "code",
   "execution_count": null,
   "id": "f7e1c0ec",
   "metadata": {
    "ExecuteTime": {
     "end_time": "2022-03-26T19:34:57.669233Z",
     "start_time": "2022-03-26T19:34:57.659719Z"
    }
   },
   "outputs": [],
   "source": [
    "def get_all_combinations(src_airports, dst_airports, dpt_dates, save_path):\n",
    "    results = []\n",
    "    N = len(src_airports)*len(dst_airports)*len(dpt_dates)\n",
    "    i = 1\n",
    "    dt = datetime.datetime.now().strftime('%Y%m%d%H%M%S')\n",
    "    for src in src_airports:\n",
    "        for dst in dst_airports:\n",
    "            for dpt in dpt_dates:\n",
    "                print(f'processing {i}/{N}: {src}, {dst}, {dpt}')\n",
    "                rtn = ''\n",
    "                fmt = 'v3'\n",
    "                alt = '1'\n",
    "                cld = '0'\n",
    "                url = f\"https://skiplagged.com/api/search.php?from={src}&to={dst}&depart={dpt}&return={rtn}&format={fmt}&counts[adults]={alt}&counts[children]={cld}\"\n",
    "                response_dict = skiplagged_api_get(url, seconds=15, wait_seconds=5)\n",
    "                best_flights, _ = process_response(response_dict, n=5)\n",
    "                \n",
    "                for bf in best_flights:\n",
    "                    result = {}\n",
    "                    result.update({'src': src, 'dst': dst, 'depart_date': dpt})\n",
    "                    result.update(bf)\n",
    "                    results.append(result)\n",
    "                    with open(f\"{save_path}itinerary_{dt}.txt\", \"a\") as f:\n",
    "                        f.write(json.dumps(result))\n",
    "                \n",
    "                i+=1\n",
    "                \n",
    "    return results"
   ]
  },
  {
   "cell_type": "code",
   "execution_count": null,
   "id": "3d8e71ed",
   "metadata": {
    "ExecuteTime": {
     "end_time": "2022-03-26T21:46:34.871129Z",
     "start_time": "2022-03-26T19:34:58.277996Z"
    },
    "scrolled": true
   },
   "outputs": [],
   "source": [
    "results = get_all_combinations(src_airports, dst_airports, dpt_dates, save_path=SAVE_PATH)\n",
    "sorted_results = sorted(results, key = lambda i: i['cost'])\n",
    "# 435 combos take 2h 11m 47 s"
   ]
  },
  {
   "cell_type": "code",
   "execution_count": null,
   "id": "24c2c4b4",
   "metadata": {
    "ExecuteTime": {
     "end_time": "2022-03-26T21:46:35.132883Z",
     "start_time": "2022-03-26T21:46:34.874157Z"
    }
   },
   "outputs": [],
   "source": [
    "sorted_results"
   ]
  },
  {
   "cell_type": "code",
   "execution_count": null,
   "id": "2d6fd730",
   "metadata": {},
   "outputs": [],
   "source": []
  }
 ],
 "metadata": {
  "kernelspec": {
   "display_name": "skiplagged-dev",
   "language": "python",
   "name": "skiplagged-dev"
  },
  "language_info": {
   "codemirror_mode": {
    "name": "ipython",
    "version": 3
   },
   "file_extension": ".py",
   "mimetype": "text/x-python",
   "name": "python",
   "nbconvert_exporter": "python",
   "pygments_lexer": "ipython3",
   "version": "3.8.10"
  },
  "toc": {
   "base_numbering": 1,
   "nav_menu": {},
   "number_sections": true,
   "sideBar": true,
   "skip_h1_title": false,
   "title_cell": "Table of Contents",
   "title_sidebar": "Contents",
   "toc_cell": false,
   "toc_position": {},
   "toc_section_display": true,
   "toc_window_display": false
  }
 },
 "nbformat": 4,
 "nbformat_minor": 5
}
