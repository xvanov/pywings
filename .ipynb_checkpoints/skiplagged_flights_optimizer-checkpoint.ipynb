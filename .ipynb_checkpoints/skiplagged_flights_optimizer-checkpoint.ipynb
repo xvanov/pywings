{
 "cells": [
  {
   "cell_type": "markdown",
   "id": "a21b5298",
   "metadata": {
    "heading_collapsed": true
   },
   "source": [
    "# description"
   ]
  },
  {
   "cell_type": "markdown",
   "id": "b4eaea67",
   "metadata": {
    "hidden": true
   },
   "source": [
    "**purpose**: search multiple dates and itineraries from skiplagged "
   ]
  },
  {
   "cell_type": "markdown",
   "id": "8f210a45",
   "metadata": {
    "heading_collapsed": true
   },
   "source": [
    "# setup"
   ]
  },
  {
   "cell_type": "code",
   "execution_count": null,
   "id": "58cb3e4e",
   "metadata": {
    "ExecuteTime": {
     "end_time": "2022-05-28T17:04:59.067195Z",
     "start_time": "2022-05-28T17:04:58.997732Z"
    },
    "hidden": true
   },
   "outputs": [],
   "source": [
    "import requests\n",
    "from time import sleep\n",
    "import datetime\n",
    "from datetime import date, timedelta\n",
    "import geopy.distance\n",
    "import airportsdata\n",
    "import json\n",
    "import concurrent\n"
   ]
  },
  {
   "cell_type": "markdown",
   "id": "9e244973",
   "metadata": {
    "heading_collapsed": true
   },
   "source": [
    "# functions"
   ]
  },
  {
   "cell_type": "code",
   "execution_count": null,
   "id": "d1cdde4b",
   "metadata": {
    "ExecuteTime": {
     "end_time": "2022-05-28T17:05:01.380618Z",
     "start_time": "2022-05-28T17:05:01.377095Z"
    },
    "hidden": true
   },
   "outputs": [],
   "source": [
    "def skiplagged_api_get(url, seconds=15, wait_seconds=5):\n",
    "    i = 0\n",
    "    call_times = seconds/wait_seconds\n",
    "    while i < call_times:\n",
    "        response = requests.get(url)\n",
    "        response_dict = response.json()\n",
    "        sleep(wait_seconds)\n",
    "        i+=1\n",
    "    return response_dict"
   ]
  },
  {
   "cell_type": "code",
   "execution_count": null,
   "id": "90ce17e2",
   "metadata": {
    "ExecuteTime": {
     "end_time": "2022-05-28T17:05:01.745620Z",
     "start_time": "2022-05-28T17:05:01.739649Z"
    },
    "hidden": true
   },
   "outputs": [],
   "source": [
    "def process_response(response_dict, n=5):\n",
    "    details = []\n",
    "    flights = []\n",
    "    cheapest_n_flights = response_dict['itineraries']['outbound'][:n]\n",
    "    for flight in cheapest_n_flights:\n",
    "        flight_id = flight['flight']\n",
    "        details = response_dict['flights'][flight_id]\n",
    "        departure = response_dict['flights'][flight_id]['segments'][0]['departure']['time']\n",
    "        arrival = response_dict['flights'][flight_id]['segments'][-1]['arrival']['time']\n",
    "        hours = response_dict['flights'][flight_id]['duration']/60/60\n",
    "        usd_price = flight['one_way_price']/100\n",
    "        flight_dict = {'flight_id': flight_id, \n",
    "                       'cost': usd_price, \n",
    "                       'duration': hours, \n",
    "                       'departure': departure, \n",
    "                       'arrival': arrival}\n",
    "        details = {flight_id: details}\n",
    "        flights.append(flight_dict)\n",
    "    return flights, details"
   ]
  },
  {
   "cell_type": "code",
   "execution_count": null,
   "id": "bc228846",
   "metadata": {
    "ExecuteTime": {
     "end_time": "2022-05-28T17:05:02.040717Z",
     "start_time": "2022-05-28T17:05:02.035876Z"
    },
    "hidden": true
   },
   "outputs": [],
   "source": [
    "def get_airports_by_country(country):\n",
    "    airports = airportsdata.load('IATA')  # key is IATA code\n",
    "    airports_by_country = [a for a in airports if airports[a]['country'] == country]\n",
    "    return airports_by_country"
   ]
  },
  {
   "cell_type": "code",
   "execution_count": null,
   "id": "03dd2a11",
   "metadata": {
    "ExecuteTime": {
     "end_time": "2022-05-28T17:05:02.284889Z",
     "start_time": "2022-05-28T17:05:02.277788Z"
    },
    "hidden": true
   },
   "outputs": [],
   "source": [
    "def get_closest_airports(airport_code, distance_km):\n",
    "    airports = airportsdata.load('IATA')  # key is IATA code\n",
    "    src = (airports[airport_code]['lat'], airports[airport_code]['lon'])\n",
    "    relevant_airports = []\n",
    "    for a in airports:\n",
    "        dst = (airports[a]['lat'], airports[a]['lon'])\n",
    "        dist = geopy.distance.distance(src, dst).km\n",
    "        if dist <= distance_km:\n",
    "            relevant_airports.append(a)\n",
    "\n",
    "    return relevant_airports"
   ]
  },
  {
   "cell_type": "code",
   "execution_count": null,
   "id": "3c442f17",
   "metadata": {
    "ExecuteTime": {
     "end_time": "2022-05-28T17:05:02.572121Z",
     "start_time": "2022-05-28T17:05:02.567042Z"
    },
    "hidden": true
   },
   "outputs": [],
   "source": [
    "def generate_urls(src_airports, dst_airports, dpt_dates):\n",
    "    urls = []\n",
    "    N = len(src_airports)*len(dst_airports)*len(dpt_dates)\n",
    "    i = 1\n",
    "    dt = datetime.datetime.now().strftime('%Y%m%d%H%M%S')\n",
    "    for src in src_airports:\n",
    "        for dst in dst_airports:\n",
    "            for dpt in dpt_dates:\n",
    "                url = generate_url(src, dst, dpt)\n",
    "                urls.append(url)\n",
    "    return urls"
   ]
  },
  {
   "cell_type": "code",
   "execution_count": null,
   "id": "2c41f9d7",
   "metadata": {
    "ExecuteTime": {
     "end_time": "2022-05-28T17:05:03.027476Z",
     "start_time": "2022-05-28T17:05:03.021554Z"
    },
    "hidden": true
   },
   "outputs": [],
   "source": [
    "def generate_url(src, dst, dpt):\n",
    "    rtn = ''\n",
    "    fmt = 'v3'\n",
    "    alt = '1'\n",
    "    cld = '0'\n",
    "    url = f\"https://skiplagged.com/api/search.php?from={src}&to={dst}&depart={dpt}&return={rtn}&format={fmt}&counts[adults]={alt}&counts[children]={cld}\"\n",
    "    return url"
   ]
  },
  {
   "cell_type": "code",
   "execution_count": null,
   "id": "0b88e9da",
   "metadata": {
    "ExecuteTime": {
     "end_time": "2022-05-28T17:05:03.402351Z",
     "start_time": "2022-05-28T17:05:03.398719Z"
    },
    "hidden": true
   },
   "outputs": [],
   "source": [
    "def make_parallel_requests(request_strings):\n",
    "    \"\"\"\n",
    "    Makes parallel requests to the skiplagged API.\n",
    "    \"\"\"\n",
    "    with concurrent.futures.ThreadPoolExecutor(max_workers=10) as executor:\n",
    "        responses = executor.map(skiplagged_api_get, request_strings)\n",
    "    return responses"
   ]
  },
  {
   "cell_type": "code",
   "execution_count": null,
   "id": "7fbecc4c",
   "metadata": {
    "ExecuteTime": {
     "end_time": "2022-05-28T17:05:04.045182Z",
     "start_time": "2022-05-28T17:05:04.038319Z"
    },
    "hidden": true
   },
   "outputs": [],
   "source": [
    "# sequential calls: old version\n",
    "def get_all_combinations(src_airports, dst_airports, dpt_dates, save_path):\n",
    "    results = []\n",
    "    N = len(src_airports)*len(dst_airports)*len(dpt_dates)\n",
    "    i = 1\n",
    "    dt = datetime.datetime.now().strftime('%Y%m%d%H%M%S')\n",
    "    for src in src_airports:\n",
    "        for dst in dst_airports:\n",
    "            for dpt in dpt_dates:\n",
    "                print(f'processing {i}/{N}: {src}, {dst}, {dpt}')\n",
    "                rtn = ''\n",
    "                fmt = 'v3'\n",
    "                alt = '1'\n",
    "                cld = '0'\n",
    "                url = f\"https://skiplagged.com/api/search.php?from={src}&to={dst}&depart={dpt}&return={rtn}&format={fmt}&counts[adults]={alt}&counts[children]={cld}\"\n",
    "                response_dict = skiplagged_api_get(url, seconds=15, wait_seconds=5)\n",
    "                best_flights, _ = process_response(response_dict, n=5)\n",
    "                \n",
    "                for bf in best_flights:\n",
    "                    result = {}\n",
    "                    result.update({'src': src, 'dst': dst, 'depart_date': dpt})\n",
    "                    result.update(bf)\n",
    "                    results.append(result)\n",
    "                    with open(f\"{save_path}itinerary_{dt}.txt\", \"a\") as f:\n",
    "                        f.write(json.dumps(result))\n",
    "                \n",
    "                i+=1\n",
    "                \n",
    "    return results"
   ]
  },
  {
   "cell_type": "code",
   "execution_count": null,
   "id": "6c38e7e0",
   "metadata": {
    "ExecuteTime": {
     "end_time": "2022-05-28T18:03:05.525675Z",
     "start_time": "2022-05-28T18:03:05.518082Z"
    },
    "hidden": true
   },
   "outputs": [],
   "source": [
    "def process_response_list(response_list, fout):\n",
    "    results = []\n",
    "    \n",
    "    for response_dict in response_list:\n",
    "        src = response_dict['info']['from']['airports'][0]\n",
    "        dst = response_dict['info']['to']['airports'][0]\n",
    "        dpt = response_dict['flights'][list(response_dict['flights'].keys())[0]]['segments'][0]['departure']['time'][:10]\n",
    "        best_flights, _ = process_response(response_dict, n=5)\n",
    "        for bf in best_flights:\n",
    "            result = {}\n",
    "\n",
    "            result.update({'src': src, 'dst': dst, 'depart_date': dpt})\n",
    "            result.update(bf)\n",
    "            results.append(result)\n",
    "            with open(fout, \"a\") as f:\n",
    "                f.write(json.dumps(result))\n",
    "    return results"
   ]
  },
  {
   "cell_type": "code",
   "execution_count": null,
   "id": "4dd14adc",
   "metadata": {
    "ExecuteTime": {
     "end_time": "2022-05-28T18:03:06.423848Z",
     "start_time": "2022-05-28T18:03:06.417924Z"
    },
    "hidden": true
   },
   "outputs": [],
   "source": [
    "def run_parallel_process_requests(request_strings, fout):\n",
    "    responses = make_parallel_requests(request_strings)\n",
    "    response_list = [response for response in responses]\n",
    "    results = process_response_list(response_list, fout)\n",
    "    return results"
   ]
  },
  {
   "cell_type": "code",
   "execution_count": null,
   "id": "2bf316b6",
   "metadata": {
    "ExecuteTime": {
     "end_time": "2022-05-28T18:03:06.868631Z",
     "start_time": "2022-05-28T18:03:06.862177Z"
    },
    "hidden": true
   },
   "outputs": [],
   "source": [
    "def get_all_combinations_partially_parallel(src_airports, dst_airports, dpt_dates, save_path):\n",
    "    urls = generate_urls(src_airports, dst_airports, dpt_dates)\n",
    "    dt = datetime.datetime.now().strftime('%Y%m%d%H%M%S')\n",
    "    fout = f\"{save_path}itinerary_{dt}.txt\"\n",
    "\n",
    "    N = len(urls)\n",
    "    n = int(N/10)\n",
    "    rem = N%10\n",
    "    final_results = []\n",
    "    for i in range(n):\n",
    "        request_strings = urls[i*10:i*10+10]\n",
    "        results = run_parallel_process_requests(request_strings, fout)\n",
    "        final_results+=results\n",
    "\n",
    "    request_strings = urls[i*10+10:i*10+10+rem]\n",
    "    results = run_parallel_process_requests(request_strings, fout)\n",
    "    final_results+=results\n",
    "    \n",
    "    return final_results"
   ]
  },
  {
   "cell_type": "code",
   "execution_count": null,
   "id": "7b6bae78",
   "metadata": {
    "ExecuteTime": {
     "end_time": "2022-05-28T18:03:07.377240Z",
     "start_time": "2022-05-28T18:03:07.373270Z"
    },
    "hidden": true
   },
   "outputs": [],
   "source": [
    "def generate_dates(start, end):\n",
    "    fmt = '%Y-%m-%d'\n",
    "\n",
    "    start_date = datetime.datetime.strptime(start, fmt)\n",
    "    end_date = datetime.datetime.strptime(end, fmt)\n",
    "\n",
    "    delta = end_date - start_date   # returns timedelta\n",
    "    dpt_dates = [(start_date + timedelta(days=i)).strftime(fmt) for i in range(delta.days + 1)]\n",
    "\n",
    "    return dpt_dates"
   ]
  },
  {
   "cell_type": "markdown",
   "id": "5f48a366",
   "metadata": {
    "heading_collapsed": true
   },
   "source": [
    "# manual"
   ]
  },
  {
   "cell_type": "code",
   "execution_count": null,
   "id": "28a1aef4",
   "metadata": {
    "ExecuteTime": {
     "end_time": "2022-05-28T17:05:28.549709Z",
     "start_time": "2022-05-28T17:05:26.529757Z"
    },
    "hidden": true
   },
   "outputs": [],
   "source": [
    "# list of closest source airports\n",
    "airports = airportsdata.load('IATA')  # key is IATA code\n",
    "\n",
    "airport_code = 'SFO'\n",
    "distance_km = 100\n",
    "relevant_airports = get_closest_airports(airport_code, distance_km)\n",
    "relevant_airports"
   ]
  },
  {
   "cell_type": "code",
   "execution_count": null,
   "id": "8cb55858",
   "metadata": {
    "ExecuteTime": {
     "end_time": "2022-05-28T17:05:28.561983Z",
     "start_time": "2022-05-28T17:05:28.552610Z"
    },
    "hidden": true
   },
   "outputs": [],
   "source": [
    "# distance between 2 airports\n",
    "a = 'MUC'\n",
    "src = (airports[a]['lat'], airports[a]['lon'])\n",
    "a = 'SOF'\n",
    "dst = (airports[a]['lat'], airports[a]['lon'])\n",
    "dist = geopy.distance.distance(src, dst).km\n",
    "dist\n"
   ]
  },
  {
   "cell_type": "code",
   "execution_count": null,
   "id": "0aa22e90",
   "metadata": {
    "ExecuteTime": {
     "end_time": "2022-05-28T17:05:30.550226Z",
     "start_time": "2022-05-28T17:05:28.564856Z"
    },
    "hidden": true
   },
   "outputs": [],
   "source": [
    "# list of closest destination airports\n",
    "\n",
    "dst = 'MUC'\n",
    "distance_km = 1200.0\n",
    "dst_airports = get_closest_airports(dst, distance_km)\n",
    "len(dst_airports), 'SOF' in dst_airports"
   ]
  },
  {
   "cell_type": "markdown",
   "id": "60ed610e",
   "metadata": {},
   "source": [
    "# execute"
   ]
  },
  {
   "cell_type": "code",
   "execution_count": null,
   "id": "185c7347",
   "metadata": {
    "ExecuteTime": {
     "end_time": "2022-05-28T17:05:34.800169Z",
     "start_time": "2022-05-28T17:05:34.797912Z"
    }
   },
   "outputs": [],
   "source": [
    "# save location\n",
    "\n",
    "SAVE_PATH = '/home/alex/Downloads/itineraries/'\n"
   ]
  },
  {
   "cell_type": "markdown",
   "id": "aa2c0349",
   "metadata": {},
   "source": [
    "## one-way"
   ]
  },
  {
   "cell_type": "code",
   "execution_count": null,
   "id": "2464c2a7",
   "metadata": {
    "ExecuteTime": {
     "end_time": "2022-05-28T21:38:54.015810Z",
     "start_time": "2022-05-28T21:38:54.010842Z"
    }
   },
   "outputs": [],
   "source": [
    "# search space: final list of source, destination airports and departure times\n",
    "\n",
    "src_airports = ['OAK', 'SFO', 'SJC']\n",
    "dst_airports = ['SOF', 'IST', 'OTP']\n",
    "start = '2022-06-02'\n",
    "end = '2022-06-14'\n",
    "\n",
    "src_airports = ['SOF', 'IST', 'OTP']\n",
    "dst_airports = ['OAK', 'SFO', 'SJC']\n",
    "start = '2022-08-01'\n",
    "end = '2022-08-30'\n",
    "\n",
    "dpt_dates = generate_dates(start, end)"
   ]
  },
  {
   "cell_type": "code",
   "execution_count": null,
   "id": "efd212e5",
   "metadata": {
    "ExecuteTime": {
     "end_time": "2022-05-28T21:47:44.074530Z",
     "start_time": "2022-05-28T21:38:54.413243Z"
    }
   },
   "outputs": [],
   "source": [
    "# run in partially parallel way (10x reduction in time)\n",
    "final_results = get_all_combinations_partially_parallel(src_airports, dst_airports, dpt_dates, SAVE_PATH)\n",
    "sorted_results = sorted(final_results, key = lambda i: i['cost'])\n",
    "# 117 combos take 5m 2s\n",
    "sorted_results\n",
    "\n",
    "# OTP - SFO : 2022-07-26, SOF - SFO : 2022-07-21"
   ]
  },
  {
   "cell_type": "code",
   "execution_count": null,
   "id": "3d8e71ed",
   "metadata": {
    "ExecuteTime": {
     "end_time": "2022-05-28T18:00:04.418959Z",
     "start_time": "2022-05-28T18:00:04.413725Z"
    },
    "scrolled": true
   },
   "outputs": [],
   "source": [
    "# old way: run sequentially\n",
    "'''\n",
    "results = get_all_combinations(src_airports, dst_airports, dpt_dates, save_path=SAVE_PATH)\n",
    "sorted_results = sorted(results, key = lambda i: i['cost'])\n",
    "# 435 combos take 2h 11m 47 s\n",
    "'''"
   ]
  },
  {
   "cell_type": "markdown",
   "id": "da067eca",
   "metadata": {},
   "source": [
    "## two-way"
   ]
  },
  {
   "cell_type": "code",
   "execution_count": null,
   "id": "83e6b0da",
   "metadata": {
    "ExecuteTime": {
     "end_time": "2022-05-28T17:13:13.907585Z",
     "start_time": "2022-05-28T17:13:13.900268Z"
    }
   },
   "outputs": [],
   "source": [
    "# seach space: list of source, destination airports, departure and return times\n",
    "\n",
    "src_airports = ['OAK', 'SFO', 'SJC']\n",
    "dst_airports = ['SOF', 'IST', 'OTP']\n",
    "start = '2022-06-02'\n",
    "end = '2022-06-14'\n",
    "ret_start = '2022-07-15'\n",
    "ret_end = '2022-08-01'\n",
    "\n",
    "dpt_dates = generate_dates(start, end)\n",
    "ret_dates = generate_dates(ret_start, ret_end)\n"
   ]
  },
  {
   "cell_type": "code",
   "execution_count": null,
   "id": "3748e30b",
   "metadata": {},
   "outputs": [],
   "source": [
    "# TODO: implement skiplagged two-way search"
   ]
  },
  {
   "cell_type": "code",
   "execution_count": null,
   "id": "3384e851",
   "metadata": {},
   "outputs": [],
   "source": []
  }
 ],
 "metadata": {
  "interpreter": {
   "hash": "c545b0173aa0f1462561eaa4076776134c08a6b85974caaac3e294706a9c8abe"
  },
  "kernelspec": {
   "display_name": "skiplagged-dev",
   "language": "python",
   "name": "skiplagged-dev"
  },
  "language_info": {
   "codemirror_mode": {
    "name": "ipython",
    "version": 3
   },
   "file_extension": ".py",
   "mimetype": "text/x-python",
   "name": "python",
   "nbconvert_exporter": "python",
   "pygments_lexer": "ipython3",
   "version": "3.8.10"
  },
  "toc": {
   "base_numbering": 1,
   "nav_menu": {},
   "number_sections": true,
   "sideBar": true,
   "skip_h1_title": false,
   "title_cell": "Table of Contents",
   "title_sidebar": "Contents",
   "toc_cell": false,
   "toc_position": {},
   "toc_section_display": true,
   "toc_window_display": false
  }
 },
 "nbformat": 4,
 "nbformat_minor": 5
}
